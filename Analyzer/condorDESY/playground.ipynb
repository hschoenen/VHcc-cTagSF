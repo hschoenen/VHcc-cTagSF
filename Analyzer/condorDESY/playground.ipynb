{
 "cells": [
  {
   "cell_type": "markdown",
   "id": "11bbc834-6344-4ccc-a5c2-d412c69a30b3",
   "metadata": {
    "tags": []
   },
   "source": [
    "# Prototyping for DP note and additional studies"
   ]
  },
  {
   "cell_type": "code",
   "execution_count": null,
   "id": "b4866c1b-6301-4904-b3df-a86d2a8c7f31",
   "metadata": {},
   "outputs": [],
   "source": [
    "import numpy as np\n",
    "import awkward as ak"
   ]
  },
  {
   "cell_type": "code",
   "execution_count": null,
   "id": "5081dc2d-9e92-43ad-9d24-3c16fdd2dff4",
   "metadata": {},
   "outputs": [],
   "source": [
    "import matplotlib.pyplot as plt"
   ]
  },
  {
   "cell_type": "code",
   "execution_count": null,
   "id": "8021dd0e-8148-41ed-9d34-322eeaf65821",
   "metadata": {},
   "outputs": [],
   "source": [
    "import uproot"
   ]
  },
  {
   "cell_type": "code",
   "execution_count": null,
   "id": "b429836e-9a86-428f-84aa-08829094c652",
   "metadata": {},
   "outputs": [],
   "source": [
    "global_names = ['Jet_pt', 'Jet_eta',\n",
    "                'Jet_DeepJet_nCpfcand','Jet_DeepJet_nNpfcand',\n",
    "                'Jet_DeepJet_nsv','Jet_DeepJet_npv',\n",
    "                'Jet_DeepCSV_trackSumJetEtRatio',\n",
    "                'Jet_DeepCSV_trackSumJetDeltaR',\n",
    "                'Jet_DeepCSV_vertexCategory',\n",
    "                'Jet_DeepCSV_trackSip2dValAboveCharm',\n",
    "                'Jet_DeepCSV_trackSip2dSigAboveCharm',\n",
    "                'Jet_DeepCSV_trackSip3dValAboveCharm',\n",
    "                'Jet_DeepCSV_trackSip3dSigAboveCharm',\n",
    "                'Jet_DeepCSV_jetNSelectedTracks',\n",
    "                'Jet_DeepCSV_jetNTracksEtaRel'\n",
    "                ]\n",
    "feature_names = global_names.copy()\n",
    "# CPF\n",
    "cpf = [[f'Jet_DeepJet_Cpfcan_BtagPf_trackEtaRel_{i}',\n",
    "        f'Jet_DeepJet_Cpfcan_BtagPf_trackPtRel_{i}',\n",
    "        f'Jet_DeepJet_Cpfcan_BtagPf_trackPPar_{i}',\n",
    "        f'Jet_DeepJet_Cpfcan_BtagPf_trackDeltaR_{i}',\n",
    "        f'Jet_DeepJet_Cpfcan_BtagPf_trackPParRatio_{i}',\n",
    "        f'Jet_DeepJet_Cpfcan_BtagPf_trackSip2dVal_{i}',\n",
    "        f'Jet_DeepJet_Cpfcan_BtagPf_trackSip2dSig_{i}',\n",
    "        f'Jet_DeepJet_Cpfcan_BtagPf_trackSip3dVal_{i}',\n",
    "        f'Jet_DeepJet_Cpfcan_BtagPf_trackSip3dSig_{i}',\n",
    "        f'Jet_DeepJet_Cpfcan_BtagPf_trackJetDistVal_{i}',\n",
    "        f'Jet_DeepJet_Cpfcan_ptrel_{i}',\n",
    "        f'Jet_DeepJet_Cpfcan_drminsv_{i}',\n",
    "        f'Jet_DeepJet_Cpfcan_VTX_ass_{i}',\n",
    "        f'Jet_DeepJet_Cpfcan_puppiw_{i}',\n",
    "        f'Jet_DeepJet_Cpfcan_chi2_{i}',\n",
    "        f'Jet_DeepJet_Cpfcan_quality_{i}'] for i in range(25)]\n",
    "cpf_main_names = ['Jet_DeepJet_Cpfcan_BtagPf_trackEtaRel',\n",
    "        'Jet_DeepJet_Cpfcan_BtagPf_trackPtRel',\n",
    "        'Jet_DeepJet_Cpfcan_BtagPf_trackPPar',\n",
    "        'Jet_DeepJet_Cpfcan_BtagPf_trackDeltaR',\n",
    "        'Jet_DeepJet_Cpfcan_BtagPf_trackPParRatio',\n",
    "        'Jet_DeepJet_Cpfcan_BtagPf_trackSip2dVal',\n",
    "        'Jet_DeepJet_Cpfcan_BtagPf_trackSip2dSig',\n",
    "        'Jet_DeepJet_Cpfcan_BtagPf_trackSip3dVal',\n",
    "        'Jet_DeepJet_Cpfcan_BtagPf_trackSip3dSig',\n",
    "        'Jet_DeepJet_Cpfcan_BtagPf_trackJetDistVal',\n",
    "        'Jet_DeepJet_Cpfcan_ptrel',\n",
    "        'Jet_DeepJet_Cpfcan_drminsv',\n",
    "        'Jet_DeepJet_Cpfcan_VTX_ass',\n",
    "        'Jet_DeepJet_Cpfcan_puppiw',\n",
    "        'Jet_DeepJet_Cpfcan_chi2',\n",
    "        'Jet_DeepJet_Cpfcan_quality']\n",
    "feature_names.extend([item for sublist in cpf for item in sublist])\n",
    "# NPF\n",
    "npf = [[f'Jet_DeepJet_Npfcan_ptrel_{i}',\n",
    "        f'Jet_DeepJet_Npfcan_deltaR_{i}',\n",
    "        f'Jet_DeepJet_Npfcan_isGamma_{i}',\n",
    "        f'Jet_DeepJet_Npfcan_HadFrac_{i}',\n",
    "        f'Jet_DeepJet_Npfcan_drminsv_{i}',\n",
    "        f'Jet_DeepJet_Npfcan_puppiw_{i}'] for i in range(25)]\n",
    "npf_main_names = ['Jet_DeepJet_Npfcan_ptrel',\n",
    "        'Jet_DeepJet_Npfcan_deltaR',\n",
    "        'Jet_DeepJet_Npfcan_isGamma',\n",
    "        'Jet_DeepJet_Npfcan_HadFrac',\n",
    "        'Jet_DeepJet_Npfcan_drminsv',\n",
    "        'Jet_DeepJet_Npfcan_puppiw']\n",
    "feature_names.extend([item for sublist in npf for item in sublist])\n",
    "# VTX\n",
    "vtx = [[f'Jet_DeepJet_sv_pt_{i}',\n",
    "        f'Jet_DeepJet_sv_deltaR_{i}',\n",
    "        f'Jet_DeepJet_sv_mass_{i}',\n",
    "        f'Jet_DeepJet_sv_ntracks_{i}',\n",
    "        f'Jet_DeepJet_sv_chi2_{i}',\n",
    "        f'Jet_DeepJet_sv_normchi2_{i}',\n",
    "        f'Jet_DeepJet_sv_dxy_{i}',\n",
    "        f'Jet_DeepJet_sv_dxysig_{i}',\n",
    "        f'Jet_DeepJet_sv_d3d_{i}',\n",
    "        f'Jet_DeepJet_sv_d3dsig_{i}',\n",
    "        f'Jet_DeepJet_sv_costhetasvpv_{i}',\n",
    "        f'Jet_DeepJet_sv_enratio_{i}'] for i in range(4)]\n",
    "vtx_main_names = ['Jet_DeepJet_sv_pt',\n",
    "        'Jet_DeepJet_sv_deltaR',\n",
    "        'Jet_DeepJet_sv_mass',\n",
    "        'Jet_DeepJet_sv_ntracks',\n",
    "        'Jet_DeepJet_sv_chi2',\n",
    "        'Jet_DeepJet_sv_normchi2',\n",
    "        'Jet_DeepJet_sv_dxy',\n",
    "        'Jet_DeepJet_sv_dxysig',\n",
    "        'Jet_DeepJet_sv_d3d',\n",
    "        'Jet_DeepJet_sv_d3dsig',\n",
    "        'Jet_DeepJet_sv_costhetasvpv',\n",
    "        'Jet_DeepJet_sv_enratio']\n",
    "feature_names.extend([item for sublist in vtx for item in sublist])"
   ]
  },
  {
   "cell_type": "code",
   "execution_count": null,
   "id": "30ba70f8-f20b-4038-81db-e6e684374138",
   "metadata": {
    "scrolled": true,
    "tags": []
   },
   "outputs": [],
   "source": [
    "feature_names"
   ]
  },
  {
   "cell_type": "code",
   "execution_count": null,
   "id": "bb352e24-9e36-432f-be67-b1847bccbeab",
   "metadata": {},
   "outputs": [],
   "source": [
    "len(feature_names)"
   ]
  },
  {
   "cell_type": "code",
   "execution_count": null,
   "id": "dfa7dd96-8fb0-4589-b885-5f858e8b9857",
   "metadata": {},
   "outputs": [],
   "source": [
    "def list_flattener(input_list):\n",
    "    return [item for sublist in input_list for item in sublist]"
   ]
  },
  {
   "cell_type": "code",
   "execution_count": null,
   "id": "ee185486-c4e1-47c2-987f-11b842f5c4f6",
   "metadata": {},
   "outputs": [],
   "source": [
    "cpf_flat = list_flattener(cpf)\n",
    "npf_flat = list_flattener(npf)\n",
    "vtx_flat = list_flattener(vtx)"
   ]
  },
  {
   "cell_type": "code",
   "execution_count": null,
   "id": "2fce4bf3-c774-4716-8989-66df13fa973d",
   "metadata": {},
   "outputs": [],
   "source": [
    "def get_range_from_name(name):\n",
    "    if name in global_names:\n",
    "        ranges = np.load('auxiliary/global_ranges.npy')[global_names.index(name)]\n",
    "    elif name in cpf_flat:\n",
    "        main_name = ''\n",
    "        for item in name.split('_')[:-1]:\n",
    "            main_name += item + '_'\n",
    "        main_name = main_name[:-1]\n",
    "        can_index = int(name.split('_')[-1])\n",
    "        print(main_name, can_index)\n",
    "        ranges = np.load('auxiliary/cpf_ranges.npy')[cpf_main_names.index(main_name)][can_index]\n",
    "    elif name in npf_flat:\n",
    "        main_name = ''\n",
    "        for item in name.split('_')[:-1]:\n",
    "            main_name += item + '_'\n",
    "        main_name = main_name[:-1]\n",
    "        can_index = int(name.split('_')[-1])\n",
    "        print(main_name, can_index)\n",
    "        ranges = np.load('auxiliary/npf_ranges.npy')[npf_main_names.index(main_name)][can_index]\n",
    "    elif name in vtx_flat:\n",
    "        main_name = ''\n",
    "        for item in name.split('_')[:-1]:\n",
    "            main_name += item + '_'\n",
    "        main_name = main_name[:-1]\n",
    "        can_index = int(name.split('_')[-1])\n",
    "        print(main_name, can_index)\n",
    "        ranges = np.load('auxiliary/vtx_ranges.npy')[vtx_main_names.index(main_name)][can_index]\n",
    "    return ranges"
   ]
  },
  {
   "cell_type": "code",
   "execution_count": null,
   "id": "d1a0f9ea-764b-4792-8d04-db67b865f9f5",
   "metadata": {},
   "outputs": [],
   "source": [
    "corresponding_ranges = get_range_from_name('Jet_DeepJet_Cpfcan_BtagPf_trackEtaRel_22')"
   ]
  },
  {
   "cell_type": "code",
   "execution_count": null,
   "id": "3b9ffa72-efd2-4d45-a16d-a9899ddd2436",
   "metadata": {},
   "outputs": [],
   "source": [
    "corresponding_ranges = get_range_from_name('Jet_pt')"
   ]
  },
  {
   "cell_type": "code",
   "execution_count": null,
   "id": "dd1a81ac-2382-4053-888d-572596912e22",
   "metadata": {},
   "outputs": [],
   "source": [
    "corresponding_ranges"
   ]
  },
  {
   "cell_type": "code",
   "execution_count": null,
   "id": "e5ba20a9-efa6-4f92-9e9e-e662cb91b693",
   "metadata": {},
   "outputs": [],
   "source": [
    "left, right = 0, 1"
   ]
  },
  {
   "cell_type": "code",
   "execution_count": null,
   "id": "664e0e3b-84a4-445a-b104-028dcb6262ed",
   "metadata": {},
   "outputs": [],
   "source": [
    "something = '''\n",
    "        #   \"jet_DeepFlavCvsL[semitc1idx]\",r\"Probe Jet DeepJet CvsL (#mu) (SS)\",NBINDISC,-0.2,1,TTSEMISELM+\"&& signWeight < 0\",dataset=\"smu\",makeROOT=True,TTSEMIWEIGHT\n",
    "        #   \"jet_DeepFlavCvsL[semitc1idx]\",r\"Probe Jet DeepJet CvsL (e) (SS)\",NBINDISC,-0.2,1,TTSEMISELE+\"&& signWeight < 0\",dataset=\"sele\",makeROOT=True,TTSEMIWEIGHT\n",
    "           \"jet_DeepFlavCvsB[semitc1idx]\",r\"Probe Jet DeepJet CvsB (#mu) (SS)\",NBINDISC,{},{},TTSEMISELM+\"&& signWeight < 0\",dataset=\"smu\",makeROOT=True,TTSEMIWEIGHT\n",
    "        #   \"jet_DeepFlavCvsB[semitc1idx]\",r\"Probe Jet DeepJet CvsB (e) (SS)\",NBINDISC,-0.2,1,TTSEMISELE+\"&& signWeight < 0\",dataset=\"sele\",makeROOT=True,TTSEMIWEIGHT\n",
    "'''.format(left, right)"
   ]
  },
  {
   "cell_type": "code",
   "execution_count": null,
   "id": "719424d0-d69e-44d6-8f81-e74c1b6b073d",
   "metadata": {},
   "outputs": [],
   "source": [
    "something"
   ]
  },
  {
   "cell_type": "code",
   "execution_count": null,
   "id": "76c0237e-1523-4684-9d0e-f4c5f5322a16",
   "metadata": {},
   "outputs": [],
   "source": [
    "interesting_arrays = np.zeros((10, 1000))\n",
    "for i in range(10):\n",
    "    this_column = np.ones(1000)\n",
    "    interesting_arrays[i] = this_column\n",
    "print(interesting_arrays)"
   ]
  },
  {
   "cell_type": "code",
   "execution_count": null,
   "id": "345569e6-7590-4ebe-be5e-88ea7389b869",
   "metadata": {},
   "outputs": [],
   "source": [
    "type(interesting_arrays)"
   ]
  },
  {
   "cell_type": "code",
   "execution_count": null,
   "id": "e7d994ad-1844-450e-8f77-8d1a8d68a69a",
   "metadata": {},
   "outputs": [],
   "source": [
    "interesting_arrays.shape"
   ]
  },
  {
   "cell_type": "code",
   "execution_count": null,
   "id": "9753b152-26b2-4df5-b8fa-4d3bea5db87c",
   "metadata": {},
   "outputs": [],
   "source": [
    "interesting_inputs = np.ones((10,1000))\n",
    "interesting_inputs = np.load('inputsCENTRAL_RunIISummer20UL17MiniAOD-106X_mc2017_realistic_v6-v2_PFtestNano_0_1.npy')\n",
    "prevSeenOrSkippedJets = 20\n",
    "i = 2\n",
    "k = 0\n",
    "exec(\"print(interesting_inputs[k][prevSeenOrSkippedJets + i])\".format('some_vec'))"
   ]
  },
  {
   "cell_type": "code",
   "execution_count": null,
   "id": "4ffef0e4-4afb-446e-b1c8-2c4832ebbc14",
   "metadata": {},
   "outputs": [],
   "source": [
    "interesting_inputs"
   ]
  },
  {
   "cell_type": "code",
   "execution_count": null,
   "id": "8105180d-6965-4ea8-b092-9958e2fb115d",
   "metadata": {},
   "outputs": [],
   "source": [
    "interesting_inputs.shape"
   ]
  },
  {
   "cell_type": "code",
   "execution_count": null,
   "id": "cbbad2de-dfa4-48f2-8a52-5ccc8cf0afbf",
   "metadata": {},
   "outputs": [],
   "source": [
    "interesting_inputsADV_NOM = np.load('inputsADV_NOM_RunIISummer20UL17MiniAOD-106X_mc2017_realistic_v6-v2_PFtestNano_0_1.npy')\n",
    "prevSeenOrSkippedJets = 20\n",
    "i = 2\n",
    "k = 0\n",
    "exec(\"print(interesting_inputsADV_NOM[k][prevSeenOrSkippedJets + i])\".format('some_vec'))"
   ]
  },
  {
   "cell_type": "code",
   "execution_count": null,
   "id": "0edd771a-3024-4a12-90d7-2c8b616f80cb",
   "metadata": {},
   "outputs": [],
   "source": [
    "interesting_inputsADV_ADV = np.load('inputsADV_ADV_RunIISummer20UL17MiniAOD-106X_mc2017_realistic_v6-v2_PFtestNano_0_1.npy')"
   ]
  },
  {
   "cell_type": "code",
   "execution_count": null,
   "id": "3c81fa31-9540-4cb1-9ebb-9f0d2e197b58",
   "metadata": {},
   "outputs": [],
   "source": [
    "interesting_inputsADV_NOM.shape"
   ]
  },
  {
   "cell_type": "code",
   "execution_count": null,
   "id": "bb89872c-5540-483d-b602-28b982031198",
   "metadata": {},
   "outputs": [],
   "source": [
    "interesting_targets = np.load('outTargets_RunIISummer20UL17MiniAOD-106X_mc2017_realistic_v6-v2_PFtestNano_0_1.npy')"
   ]
  },
  {
   "cell_type": "code",
   "execution_count": null,
   "id": "51e4dc1a-b5f5-4c67-80a1-8e6bb8b1045f",
   "metadata": {},
   "outputs": [],
   "source": [
    "plt.hist(interesting_inputs[0],bins=50,range=(-2.5,250),alpha=0.5,log=True)\n",
    "plt.hist(interesting_inputsADV_NOM[0],bins=50,range=(-2.5,250),alpha=0.5,log=True)"
   ]
  },
  {
   "cell_type": "code",
   "execution_count": null,
   "id": "007a1fbc-cf44-444a-b0db-e52d70a38df4",
   "metadata": {},
   "outputs": [],
   "source": [
    "plt.hist(interesting_inputs[3],bins=50,range=(-2.5,2.5),alpha=0.5,log=True)\n",
    "plt.hist(interesting_inputsADV_NOM[3],bins=50,range=(-2.5,2.5),alpha=0.5,log=True)"
   ]
  },
  {
   "cell_type": "code",
   "execution_count": null,
   "id": "eea9c64c-c351-4605-aad0-9e6c67d0944a",
   "metadata": {},
   "outputs": [],
   "source": [
    "plt.hist(interesting_inputs[9],bins=50,range=(-2.5,18.5),alpha=0.5,log=True)\n",
    "plt.hist(interesting_inputsADV_NOM[9],bins=50,range=(-2.5,18.5),alpha=0.5,log=True)\n",
    "plt.hist(interesting_inputsADV_ADV[9],bins=50,range=(-2.5,18.5),alpha=0.5,log=True)"
   ]
  },
  {
   "cell_type": "code",
   "execution_count": null,
   "id": "ab688a44-cb46-480b-8b27-3e6cd9cd82da",
   "metadata": {},
   "outputs": [],
   "source": [
    "plt.hist(interesting_inputs[2],bins=50,range=(-1.5,1.5),alpha=0.5,log=True)\n",
    "plt.hist(interesting_inputsADV_NOM[2],bins=50,range=(-1.5,1.5),alpha=0.5,log=True)\n",
    "plt.hist(interesting_inputsADV_ADV[2],bins=50,range=(-1.5,1.5),alpha=0.5,log=True)"
   ]
  },
  {
   "cell_type": "code",
   "execution_count": null,
   "id": "5e01bb10-7f16-4e40-8207-777acfc40c6c",
   "metadata": {},
   "outputs": [],
   "source": [
    "plt.hist(interesting_inputs[2],bins=50,range=(-0.9,0.9),alpha=0.5,log=True)\n",
    "plt.hist(interesting_inputsADV_NOM[2],bins=50,range=(-0.9,0.9),alpha=0.5,log=True)\n",
    "plt.hist(interesting_inputsADV_ADV[2],bins=50,range=(-0.9,0.9),alpha=0.5,log=True)"
   ]
  },
  {
   "cell_type": "code",
   "execution_count": null,
   "id": "d79df515-75c2-47f7-a076-5914a388632a",
   "metadata": {},
   "outputs": [],
   "source": [
    "plt.hist(interesting_inputs[8][interesting_targets > 3],bins=50,range=(0,2.5),alpha=0.5,log=True,histtype='step')\n",
    "plt.hist(interesting_inputsADV_NOM[8][interesting_targets > 3],bins=50,range=(0,2.5),alpha=0.5,log=True,histtype='step')\n",
    "plt.hist(interesting_inputsADV_ADV[8][interesting_targets > 3],bins=50,range=(0,2.5),alpha=0.5,log=True,histtype='step')\n",
    "plt.legend(['nominal inputs', 'distorted inputs (FGSM for nominal training)', 'distorted inputs (FGSM for adversarial training)'],bbox_to_anchor=(1.05,1.05))\n",
    "plt.title('udsg')\n",
    "plt.xlabel('Jet_DeepJet_sv_mass_0')\n",
    "plt.savefig('udsg_input_DJ_example_svmass.pdf')"
   ]
  },
  {
   "cell_type": "code",
   "execution_count": null,
   "id": "85b877d8-4e8b-4166-9828-658166425e0e",
   "metadata": {},
   "outputs": [],
   "source": [
    "plt.hist(interesting_inputs[3][interesting_targets > 3],bins=50,range=(-2.5,2.5),alpha=0.5,log=True,histtype='step')\n",
    "plt.hist(interesting_inputsADV_NOM[3][interesting_targets > 3],bins=50,range=(-2.5,2.5),alpha=0.5,log=True,histtype='step')\n",
    "plt.hist(interesting_inputsADV_ADV[3][interesting_targets > 3],bins=50,range=(-2.5,2.5),alpha=0.5,log=True,histtype='step')\n",
    "plt.legend(['nominal inputs', 'distorted inputs (FGSM for nominal training)', 'distorted inputs (FGSM for adversarial training)'],bbox_to_anchor=(1.05,1.05))\n",
    "plt.title('udsg')\n",
    "plt.xlabel('Jet_DeepCSV_trackSip3dSigAboveCharm')\n",
    "plt.savefig('udsg_input_DJ_example.pdf')"
   ]
  },
  {
   "cell_type": "code",
   "execution_count": null,
   "id": "2a185e9b-1176-4d26-a5a0-ceb8d68e9596",
   "metadata": {},
   "outputs": [],
   "source": [
    "plt.hist(interesting_inputs[8][interesting_targets == 3],bins=50,range=(0,2.5),alpha=0.5,log=True,histtype='step')\n",
    "plt.hist(interesting_inputsADV_NOM[8][interesting_targets == 3],bins=50,range=(0,2.5),alpha=0.5,log=True,histtype='step')\n",
    "plt.hist(interesting_inputsADV_ADV[8][interesting_targets == 3],bins=50,range=(0,2.5),alpha=0.5,log=True,histtype='step')\n",
    "plt.legend(['nominal inputs', 'distorted inputs (FGSM for nominal training)', 'distorted inputs (FGSM for adversarial training)'],bbox_to_anchor=(1.05,1.05))\n",
    "plt.title('udsg')\n",
    "plt.xlabel('Jet_DeepJet_sv_mass_0')\n",
    "plt.savefig('charm_input_DJ_example_svmass.pdf')"
   ]
  },
  {
   "cell_type": "code",
   "execution_count": null,
   "id": "9ad9b26c-a14a-4ee1-9611-f3a4eba9db7c",
   "metadata": {},
   "outputs": [],
   "source": [
    "plt.hist(interesting_inputs[3][interesting_targets == 3],bins=50,range=(-2.5,2.5),alpha=0.5,log=True,histtype='step')\n",
    "plt.hist(interesting_inputsADV_NOM[3][interesting_targets == 3],bins=50,range=(-2.5,2.5),alpha=0.5,log=True,histtype='step')\n",
    "plt.hist(interesting_inputsADV_ADV[3][interesting_targets == 3],bins=50,range=(-2.5,2.5),alpha=0.5,log=True,histtype='step')\n",
    "plt.legend(['nominal inputs', 'distorted inputs (FGSM for nominal training)', 'distorted inputs (FGSM for adversarial training)'],bbox_to_anchor=(1.05,1.05))\n",
    "plt.title('charm')\n",
    "plt.xlabel('Jet_DeepCSV_trackSip3dSigAboveCharm')\n",
    "plt.savefig('charm_input_DJ_example.pdf')"
   ]
  },
  {
   "cell_type": "code",
   "execution_count": null,
   "id": "d9b603da-673b-4cea-8b81-bb8e598d0298",
   "metadata": {},
   "outputs": [],
   "source": [
    "plt.hist(interesting_inputs[8][interesting_targets < 3],bins=50,range=(0,2.5),alpha=0.5,log=True,histtype='step')\n",
    "plt.hist(interesting_inputsADV_NOM[8][interesting_targets < 3],bins=50,range=(0,2.5),alpha=0.5,log=True,histtype='step')\n",
    "plt.hist(interesting_inputsADV_ADV[8][interesting_targets < 3],bins=50,range=(0,2.5),alpha=0.5,log=True,histtype='step')\n",
    "plt.legend(['nominal inputs', 'distorted inputs (FGSM for nominal training)', 'distorted inputs (FGSM for adversarial training)'],bbox_to_anchor=(1.05,1.05))\n",
    "plt.title('udsg')\n",
    "plt.xlabel('Jet_DeepJet_sv_mass_0')\n",
    "plt.savefig('bottom_input_DJ_example_svmass.pdf')"
   ]
  },
  {
   "cell_type": "code",
   "execution_count": null,
   "id": "445a7326-ef4e-4397-b9ef-7f559ab3053e",
   "metadata": {},
   "outputs": [],
   "source": [
    "plt.hist(interesting_inputs[3][interesting_targets < 3],bins=50,range=(-2.5,2.5),alpha=0.5,log=True,histtype='step')\n",
    "plt.hist(interesting_inputsADV_NOM[3][interesting_targets < 3],bins=50,range=(-2.5,2.5),alpha=0.5,log=True,histtype='step')\n",
    "plt.hist(interesting_inputsADV_ADV[3][interesting_targets < 3],bins=50,range=(-2.5,2.5),alpha=0.5,log=True,histtype='step')\n",
    "plt.legend(['nominal inputs', 'distorted inputs (FGSM for nominal training)', 'distorted inputs (FGSM for adversarial training)'],bbox_to_anchor=(1.05,1.05))\n",
    "plt.title('bottom')\n",
    "plt.xlabel('Jet_DeepCSV_trackSip3dSigAboveCharm')\n",
    "plt.savefig('bottom_input_DJ_example.pdf')"
   ]
  },
  {
   "cell_type": "code",
   "execution_count": null,
   "id": "d3cc7642-6dde-43bd-9c21-65cbaee0f650",
   "metadata": {},
   "outputs": [],
   "source": [
    "# sim\n",
    "analyzer_output = '/nfs/dust/cms/user/anstein/ctag_condor/221019_2017_DY_DeepJet_Run2_COMPARE/DYJetsToLL_M-50_TuneCP5_13TeV-madgraphMLM-pythia8/outTree_RunIISummer19UL17MiniAOD-106X_mc2017_realistic_v6-v2_PFtestNano_0_1-1.root'"
   ]
  },
  {
   "cell_type": "code",
   "execution_count": null,
   "id": "197e133f-469d-4842-9435-c95d4b57f346",
   "metadata": {},
   "outputs": [],
   "source": [
    "# data\n",
    "analyzer_output = '/nfs/dust/cms/user/anstein/ctag_condor/221019_2017_DY_DeepJet_Run2_COMPARE/DoubleMuon/outTree_Run2017B-09Aug2019_UL2017-v1_PFtestNano_0_1.root'"
   ]
  },
  {
   "cell_type": "code",
   "execution_count": null,
   "id": "94c38250-1765-4ad4-a754-3e002f18fe8e",
   "metadata": {},
   "outputs": [],
   "source": [
    "ana_outfile = uproot.open(analyzer_output)"
   ]
  },
  {
   "cell_type": "code",
   "execution_count": null,
   "id": "f7b79ba8-c277-4428-8c84-94583fdde613",
   "metadata": {},
   "outputs": [],
   "source": [
    "events = ana_outfile['Events']"
   ]
  },
  {
   "cell_type": "code",
   "execution_count": null,
   "id": "ba982ac8-2319-401a-ae36-5dd17895c310",
   "metadata": {},
   "outputs": [],
   "source": [
    "events.keys()"
   ]
  },
  {
   "cell_type": "code",
   "execution_count": null,
   "id": "91dd650b-d7fc-46ff-9349-8dfbd761dd27",
   "metadata": {},
   "outputs": [],
   "source": [
    "example_var = events.arrays(['Jet_DeepCSV_trackSip2dSigAboveCharm_CENTRAL',\n",
    "                             'Jet_DeepCSV_trackSip2dSigAboveCharm_ADV_NOM',\n",
    "                             'Jet_DeepCSV_trackSip2dSigAboveCharm_ADV_ADV',\n",
    "                             'Jet_DeepJet_Npfcan_deltaR_0_CENTRAL',\n",
    "                             'Jet_DeepJet_Npfcan_deltaR_0_ADV_NOM',\n",
    "                             'Jet_DeepJet_Npfcan_deltaR_0_ADV_ADV',\n",
    "                             #'jet_hadronFlv'\n",
    "                            ])"
   ]
  },
  {
   "cell_type": "code",
   "execution_count": null,
   "id": "4a9cf262-30f2-462a-b3ff-8e943622fae9",
   "metadata": {},
   "outputs": [],
   "source": [
    "example_var"
   ]
  },
  {
   "cell_type": "code",
   "execution_count": null,
   "id": "b6771dea-9b80-43b2-a22b-b2a5453ec99e",
   "metadata": {},
   "outputs": [],
   "source": [
    "centr = ak.flatten(example_var.Jet_DeepCSV_trackSip2dSigAboveCharm_CENTRAL, axis=-1)"
   ]
  },
  {
   "cell_type": "code",
   "execution_count": null,
   "id": "904dc5ec-d542-40a7-970e-ce0aab6a4f67",
   "metadata": {},
   "outputs": [],
   "source": [
    "adv_nom = ak.flatten(example_var.Jet_DeepCSV_trackSip2dSigAboveCharm_ADV_NOM, axis=-1)"
   ]
  },
  {
   "cell_type": "code",
   "execution_count": null,
   "id": "2a51f770-1b69-4bf0-8872-c7e953f6c3b4",
   "metadata": {},
   "outputs": [],
   "source": [
    "adv_adv = ak.flatten(example_var.Jet_DeepCSV_trackSip2dSigAboveCharm_ADV_ADV, axis=-1)"
   ]
  },
  {
   "cell_type": "code",
   "execution_count": null,
   "id": "661fec8a-9cc8-43e0-ab36-fdc27efa672e",
   "metadata": {},
   "outputs": [],
   "source": [
    "centr = ak.flatten(example_var.Jet_DeepJet_Npfcan_deltaR_0_CENTRAL, axis=-1)"
   ]
  },
  {
   "cell_type": "code",
   "execution_count": null,
   "id": "e82ec963-96e8-4f6e-9106-7fac35118bc8",
   "metadata": {},
   "outputs": [],
   "source": [
    "adv_nom = ak.flatten(example_var.Jet_DeepJet_Npfcan_deltaR_0_ADV_NOM, axis=-1)"
   ]
  },
  {
   "cell_type": "code",
   "execution_count": null,
   "id": "31867fea-6207-4547-990f-bf517d8306cf",
   "metadata": {},
   "outputs": [],
   "source": [
    "adv_adv = ak.flatten(example_var.Jet_DeepJet_Npfcan_deltaR_0_ADV_ADV, axis=-1)"
   ]
  },
  {
   "cell_type": "code",
   "execution_count": null,
   "id": "7c0c4a32-1e7b-4662-8fb8-d10d55ce9c0f",
   "metadata": {},
   "outputs": [],
   "source": [
    "flav = ak.flatten(example_var.jet_hadronFlv, axis=-1)"
   ]
  },
  {
   "cell_type": "code",
   "execution_count": null,
   "id": "ca961388-ecb4-4efa-856e-8dd2b62b2fb2",
   "metadata": {},
   "outputs": [],
   "source": [
    "plt.hist(centr, bins=40, range=(-2,2), log=True, alpha=0.5, label='CENTRAL')\n",
    "plt.hist(adv_nom, bins=40, range=(-2,2), log=True, histtype='step', label='FGSM for NOMINAL')\n",
    "plt.hist(adv_adv, bins=40, range=(-2,2), log=True, histtype='step', label='FGSM for ADVERSARIAL')\n",
    "plt.legend()"
   ]
  },
  {
   "cell_type": "code",
   "execution_count": null,
   "id": "56c47eaa-2566-4ac0-8e29-3197d287fa65",
   "metadata": {},
   "outputs": [],
   "source": [
    "plt.hist(centr[flav == 0], bins=40, range=(-2,2), log=True, alpha=0.5, label='CENTRAL')\n",
    "plt.hist(adv_nom[flav == 0], bins=40, range=(-2,2), log=True, histtype='step', label='FGSM for NOMINAL')\n",
    "plt.hist(adv_adv[flav == 0], bins=40, range=(-2,2), log=True, histtype='step', label='FGSM for ADVERSARIAL')\n",
    "plt.legend()"
   ]
  },
  {
   "cell_type": "code",
   "execution_count": null,
   "id": "7c47f055-6edd-4d1d-ae22-cc1b1e818436",
   "metadata": {},
   "outputs": [],
   "source": [
    "plt.hist(centr[flav == 4], bins=40, range=(-2,2), log=True, alpha=0.5, label='CENTRAL')\n",
    "plt.hist(adv_nom[flav == 4], bins=40, range=(-2,2), log=True, histtype='step', label='FGSM for NOMINAL')\n",
    "plt.hist(adv_adv[flav == 4], bins=40, range=(-2,2), log=True, histtype='step', label='FGSM for ADVERSARIAL')\n",
    "plt.legend()"
   ]
  },
  {
   "cell_type": "code",
   "execution_count": null,
   "id": "38f1d039-b687-4cd4-b85b-1db304d57411",
   "metadata": {},
   "outputs": [],
   "source": [
    "plt.hist(centr[flav == 5], bins=40, range=(-2,2), log=True, alpha=0.5, label='CENTRAL')\n",
    "plt.hist(adv_nom[flav == 5], bins=40, range=(-2,2), log=True, histtype='step', label='FGSM for NOMINAL')\n",
    "plt.hist(adv_adv[flav == 5], bins=40, range=(-2,2), log=True, histtype='step', label='FGSM for ADVERSARIAL')\n",
    "plt.legend()"
   ]
  },
  {
   "cell_type": "code",
   "execution_count": null,
   "id": "47207fc9-fbbd-464f-a066-1b37f24f4405",
   "metadata": {},
   "outputs": [],
   "source": [
    "plt.hist(centr, bins=40, range=(-0.65,0), log=True, alpha=0.5, label='CENTRAL')\n",
    "plt.hist(adv_nom, bins=40, range=(-0.65,0), log=True, histtype='step', label='FGSM for NOMINAL')\n",
    "plt.hist(adv_adv, bins=40, range=(-0.65,0), log=True, histtype='step', label='FGSM for ADVERSARIAL')\n",
    "plt.legend()"
   ]
  },
  {
   "cell_type": "code",
   "execution_count": null,
   "id": "2861005a-91d1-4cad-9ea8-ab643bf8db45",
   "metadata": {},
   "outputs": [],
   "source": [
    "plt.hist(centr[flav == 0], bins=40, range=(-0.65,0), log=True, alpha=0.5, label='CENTRAL')\n",
    "plt.hist(adv_nom[flav == 0], bins=40, range=(-0.65,0), log=True, histtype='step', label='FGSM for NOMINAL')\n",
    "plt.hist(adv_adv[flav == 0], bins=40, range=(-0.65,0), log=True, histtype='step', label='FGSM for ADVERSARIAL')\n",
    "plt.legend()"
   ]
  },
  {
   "cell_type": "code",
   "execution_count": null,
   "id": "26154002-9183-4178-b862-557eec82a17d",
   "metadata": {},
   "outputs": [],
   "source": [
    "plt.hist(centr[flav == 4], bins=40, range=(-0.65,0), log=True, alpha=0.5, label='CENTRAL')\n",
    "plt.hist(adv_nom[flav == 4], bins=40, range=(-0.65,0), log=True, histtype='step', label='FGSM for NOMINAL')\n",
    "plt.hist(adv_adv[flav == 4], bins=40, range=(-0.65,0), log=True, histtype='step', label='FGSM for ADVERSARIAL')\n",
    "plt.legend()"
   ]
  },
  {
   "cell_type": "code",
   "execution_count": null,
   "id": "9681e6e9-15fc-4b0d-b007-318ccc65ee02",
   "metadata": {},
   "outputs": [],
   "source": [
    "plt.hist(centr[flav == 5], bins=40, range=(-0.65,0), log=True, alpha=0.5, label='CENTRAL')\n",
    "plt.hist(adv_nom[flav == 5], bins=40, range=(-0.65,0), log=True, histtype='step', label='FGSM for NOMINAL')\n",
    "plt.hist(adv_adv[flav == 5], bins=40, range=(-0.65,0), log=True, histtype='step', label='FGSM for ADVERSARIAL')\n",
    "plt.legend()"
   ]
  },
  {
   "cell_type": "code",
   "execution_count": null,
   "id": "fa715464-45d8-4842-8241-de78f255603c",
   "metadata": {},
   "outputs": [],
   "source": [
    "import uproot\n",
    "import numpy as np\n",
    "import matplotlib.pyplot as plt\n",
    "import mplhep as hep\n",
    "#plt.style.use([hep.style.ROOT, hep.style.fira, hep.style.firamath])\n",
    "#plt.style.use([hep.style.ROOT, hep.style.firamath])"
   ]
  },
  {
   "cell_type": "code",
   "execution_count": null,
   "id": "f01b09d1-312c-4de8-b345-eaf032df96fd",
   "metadata": {},
   "outputs": [],
   "source": [
    "plt.style.use([hep.style.ROOT])"
   ]
  },
  {
   "cell_type": "code",
   "execution_count": null,
   "id": "482d1174-753f-4551-bc61-4ecfc2009554",
   "metadata": {},
   "outputs": [],
   "source": [
    "from scipy.stats import entropy"
   ]
  },
  {
   "cell_type": "code",
   "execution_count": null,
   "id": "58a23df4-38f2-4435-b107-19672916480c",
   "metadata": {},
   "outputs": [],
   "source": [
    "import matplotlib as mpl\n",
    "from cycler import cycler\n",
    "from matplotlib.offsetbox import AnchoredText\n",
    "from matplotlib.ticker import FormatStrFormatter"
   ]
  },
  {
   "cell_type": "code",
   "execution_count": null,
   "id": "f9978234-952e-4508-a191-c9f480553f42",
   "metadata": {},
   "outputs": [],
   "source": [
    "import itertools\n",
    "def flip(items, ncol):\n",
    "    return itertools.chain(*[items[i::ncol] for i in range(ncol)])"
   ]
  },
  {
   "cell_type": "code",
   "execution_count": null,
   "id": "332793e7-7809-4edc-86cb-93d5f8ae653f",
   "metadata": {},
   "outputs": [],
   "source": [
    "example_input_CENTRAL = uproot.open('/nfs/dust/cms/user/anstein/ctag_condor/systPlots_221019_2017_inputs_/Plots_221019_inputs_30bins/output_2017_PFNano_central/DY_m_Jet_DeepJet_Npfcan_deltaR_0_CENTRAL_0_.root')\n",
    "example_input_ADV_NOM = uproot.open('/nfs/dust/cms/user/anstein/ctag_condor/systPlots_221019_2017_inputs_/Plots_221019_inputs_30bins/output_2017_PFNano_central/DY_m_Jet_DeepJet_Npfcan_deltaR_0_ADV_NOM_0_.root')\n",
    "example_input_ADV_ADV = uproot.open('/nfs/dust/cms/user/anstein/ctag_condor/systPlots_221019_2017_inputs_/Plots_221019_inputs_30bins/output_2017_PFNano_central/DY_m_Jet_DeepJet_Npfcan_deltaR_0_ADV_ADV_0_.root')"
   ]
  },
  {
   "cell_type": "code",
   "execution_count": null,
   "id": "a6db0372-2ff7-414d-a9d5-79802a52b093",
   "metadata": {},
   "outputs": [],
   "source": [
    "example_input_CENTRAL.keys()"
   ]
  },
  {
   "cell_type": "code",
   "execution_count": null,
   "id": "eea2f21e-0676-489f-b37b-f5cee2c92ff1",
   "metadata": {
    "scrolled": true,
    "tags": []
   },
   "outputs": [],
   "source": [
    "dir(example_input_CENTRAL['b'])"
   ]
  },
  {
   "cell_type": "code",
   "execution_count": null,
   "id": "e019f9f9-8f6a-4b63-9202-b5fc1668d059",
   "metadata": {
    "scrolled": true,
    "tags": []
   },
   "outputs": [],
   "source": [
    "example_input_CENTRAL['b'].tojson()"
   ]
  },
  {
   "cell_type": "code",
   "execution_count": null,
   "id": "ee091fc3-c881-4947-b249-ce817a0e9f75",
   "metadata": {},
   "outputs": [],
   "source": [
    "example_input_CENTRAL['b'].to_numpy()"
   ]
  },
  {
   "cell_type": "code",
   "execution_count": null,
   "id": "380b2e82-8087-4b41-b568-f91bc119a3a0",
   "metadata": {},
   "outputs": [],
   "source": [
    "def bin_diff(central_histo, attacked_histo, model='Nominal', selection='DY'):\n",
    "    colors = ['#000000', '#FF0000', '#0000FF', '#ECEC00', '#00C600']\n",
    "    plt.rcParams['axes.axisbelow'] = True\n",
    "    \n",
    "    x_label = central_histo['MCSum'].tojson()['fTitle'].split('_CENTRAL_0')[0]\n",
    "    \n",
    "    edges = central_histo['MCSum'].axis().edges()\n",
    "    \n",
    "    diff_all = attacked_histo['MCSum'].values() - central_histo['MCSum'].values()\n",
    "    \n",
    "    diff_b = attacked_histo['b'].values() - central_histo['b'].values()\n",
    "    diff_c = attacked_histo['c'].values() - central_histo['c'].values()\n",
    "    diff_uds = attacked_histo['uds'].values() - central_histo['uds'].values()\n",
    "    diff_lep = attacked_histo['lep'].values() - central_histo['lep'].values()\n",
    "    \n",
    "    fig, ((ax1, ax2, ax3, ax4, ax5)) = plt.subplots(5, 1, figsize=(12, 12), gridspec_kw={'hspace': 0.05}, sharex=True)\n",
    "    fig.tight_layout()\n",
    "    hep.histplot(diff_all,\n",
    "                 edges,\n",
    "                 label='MCSum', stack=True, histtype='fill',\n",
    "                 ax=ax1, # **hatch_style\n",
    "                 color =  colors[0]\n",
    "                 #fill_opts=stack_fill_opts,\n",
    "                 #error_opts=stack_error_opts\n",
    "                 )\n",
    "    ax1.set_ylabel('FGSM - CENTRAL')\n",
    "    ax1.set_xlabel('')\n",
    "    ax1.legend()\n",
    "    hep.histplot(diff_b,\n",
    "                 edges,\n",
    "                 label='b', stack=True, histtype='fill',\n",
    "                 ax=ax2, # **hatch_style\n",
    "                 color =  colors[1]\n",
    "                 #fill_opts=stack_fill_opts,\n",
    "                 #error_opts=stack_error_opts\n",
    "                 )\n",
    "    #ax2.set_ylabel('FGSM - CENTRAL')\n",
    "    ax2.set_xlabel('')\n",
    "    ax2.legend()\n",
    "    hep.histplot(diff_c,\n",
    "                 edges,\n",
    "                 label='c', stack=True, histtype='fill',\n",
    "                 ax=ax3, # **hatch_style\n",
    "                 color =  colors[2]\n",
    "                 #fill_opts=stack_fill_opts,\n",
    "                 #error_opts=stack_error_opts\n",
    "                 )\n",
    "    #ax3.set_ylabel('FGSM - CENTRAL')\n",
    "    ax3.set_xlabel('')\n",
    "    ax3.legend()\n",
    "    hep.histplot(diff_uds,\n",
    "                 edges,\n",
    "                 label='udsg', stack=True, histtype='fill',\n",
    "                 ax=ax4, # **hatch_style\n",
    "                 color =  colors[3]\n",
    "                 #fill_opts=stack_fill_opts,\n",
    "                 #error_opts=stack_error_opts\n",
    "                 )\n",
    "    #ax4.set_ylabel('FGSM - CENTRAL')\n",
    "    ax4.set_xlabel('')\n",
    "    ax4.legend()\n",
    "    hep.histplot(diff_lep,\n",
    "                 edges,\n",
    "                 label='lep', stack=True, histtype='fill',\n",
    "                 ax=ax5, # **hatch_style\n",
    "                 color =  colors[4]\n",
    "                 #fill_opts=stack_fill_opts,\n",
    "                 #error_opts=stack_error_opts\n",
    "                 )\n",
    "    #ax5.set_ylabel('FGSM - CENTRAL')\n",
    "    ax5.set_xlabel(x_label + f'\\n(MC with FGSM for {model} training)')\n",
    "    ax5.legend()\n",
    "    \n",
    "    fig.savefig(f'/nfs/dust/cms/user/anstein/ctag_condor/DJ_input_evaluation/{model}_{selection}_.pdf', bbox_inches='tight')\n",
    "    fig.savefig(f'/nfs/dust/cms/user/anstein/ctag_condor/DJ_input_evaluation/{model}_{selection}_input.png', bbox_inches='tight', dpi=900, facecolor='w', transparent=False)\n",
    "    return edges, diff_all, diff_b, diff_c, diff_uds, diff_lep"
   ]
  },
  {
   "cell_type": "code",
   "execution_count": null,
   "id": "2f34bce0-78ad-4d86-8530-f21e38298476",
   "metadata": {},
   "outputs": [],
   "source": [
    "edges_NOM, diff_all_NOM, diff_b_NOM, diff_c_NOM, diff_uds_NOM, diff_lep_NOM = bin_diff(example_input_CENTRAL, example_input_ADV_NOM, model='Nominal', selection='DY')"
   ]
  },
  {
   "cell_type": "code",
   "execution_count": null,
   "id": "bcfcf8e6-8513-4192-abf0-66ee4c0c89cb",
   "metadata": {},
   "outputs": [],
   "source": [
    "edges_ADV, diff_all_ADV, diff_b_ADV, diff_c_ADV, diff_uds_ADV, diff_lep_ADV = bin_diff(example_input_CENTRAL, example_input_ADV_ADV, model='Adversarial', selection='DY')"
   ]
  }
 ],
 "metadata": {
  "kernelspec": {
   "display_name": "Python 3 (ipykernel)",
   "language": "python",
   "name": "python3"
  },
  "language_info": {
   "codemirror_mode": {
    "name": "ipython",
    "version": 3
   },
   "file_extension": ".py",
   "mimetype": "text/x-python",
   "name": "python",
   "nbconvert_exporter": "python",
   "pygments_lexer": "ipython3",
   "version": "3.7.12"
  }
 },
 "nbformat": 4,
 "nbformat_minor": 5
}
